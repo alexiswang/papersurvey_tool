{
 "cells": [
  {
   "cell_type": "code",
   "execution_count": 62,
   "metadata": {},
   "outputs": [],
   "source": [
    "\n",
    "__import__('pysqlite3')\n",
    "import sys\n",
    "sys.modules['sqlite3'] = sys.modules.pop('pysqlite3')\n",
    "\n",
    "import os\n",
    "import openai\n",
    "from langchain.document_loaders import PyPDFLoader\n",
    "from langchain.text_splitter import RecursiveCharacterTextSplitter\n",
    "from langchain.embeddings import OpenAIEmbeddings, SentenceTransformerEmbeddings\n",
    "from langchain.vectorstores import Chroma\n",
    "from langchain.chains import RetrievalQA\n",
    "from langchain.chat_models import ChatOpenAI\n",
    "\n",
    "from openai import OpenAI\n",
    "import pandas as pd"
   ]
  },
  {
   "cell_type": "code",
   "execution_count": 63,
   "metadata": {},
   "outputs": [],
   "source": [
    "OPENAI_API_KEY = os.environ[\"OPENAI_API_KEY\"]"
   ]
  },
  {
   "cell_type": "code",
   "execution_count": 64,
   "metadata": {},
   "outputs": [
    {
     "name": "stdout",
     "output_type": "stream",
     "text": [
      "33\n"
     ]
    }
   ],
   "source": [
    "# load document\n",
    "loader = PyPDFLoader(\"../../example_paper1.pdf\")\n",
    "documents = loader.load()\n",
    "print(len(documents))"
   ]
  },
  {
   "cell_type": "code",
   "execution_count": 65,
   "metadata": {},
   "outputs": [
    {
     "name": "stdout",
     "output_type": "stream",
     "text": [
      "43\n"
     ]
    }
   ],
   "source": [
    "text_splitter = RecursiveCharacterTextSplitter(chunk_size=3000, chunk_overlap=0)\n",
    "text = text_splitter.split_documents(documents)\n",
    "print(len(text))"
   ]
  },
  {
   "cell_type": "code",
   "execution_count": 61,
   "metadata": {},
   "outputs": [
    {
     "data": {
      "text/plain": [
       "3527"
      ]
     },
     "execution_count": 61,
     "metadata": {},
     "output_type": "execute_result"
    }
   ],
   "source": [
    "len(documents[0].page_content)\n"
   ]
  },
  {
   "cell_type": "code",
   "execution_count": 66,
   "metadata": {},
   "outputs": [],
   "source": [
    "import regex as re\n",
    "class EvalData:\n",
    "\n",
    "    def __init__(self, question_answer_pair):\n",
    "        self.question_answer_pair = question_answer_pair\n",
    "        self.questions = None\n",
    "    \n",
    "    \n",
    "    def call_openai_chat_completion(text_chunk):\n",
    "\n",
    "        client = OpenAI()\n",
    "\n",
    "        # text_chunk = text[0].page_content\n",
    "        content = text_chunk\n",
    "        n = 2\n",
    "\n",
    "        prompt = f\"\"\"Please generate {n} questions asking for the key information in the given paragraph. \n",
    "            Also answer the questions using the information in the given paragraph. \n",
    "            Please specific questions rather than general questeions, like 'what is the key information in the given paragraph?'.\n",
    "            Questions should end with '?'. \n",
    "            Please generate answers using as much information as possible.\n",
    "            If you are unable to answer it, please generate the answer as 'sorry I don't know.'\n",
    "            The output should be formatted. Every question-answer pair should be separated by '\\n\\n'. Questions should start with \"Question:\" and answers should start with \"Answer:\". \n",
    "            Each question and answer should be saparated by '\\n'. \n",
    "\n",
    "            paragraph: {content}\n",
    "            \"\"\"\n",
    " \n",
    "\n",
    "        response = client.chat.completions.create(\n",
    "            messages=[{\"role\": \"user\", \"content\": prompt}],\n",
    "            model = \"gpt-3.5-turbo\",   \n",
    "            # tools = [{\"type\": \"function\", \"function\": submit_function}]\n",
    "            # response_format={\"type\":\"json_object\"}\n",
    "        )\n",
    "\n",
    "        generated = response.choices[0].message.content\n",
    "        qa_list = [qa_pair.split('\\n') for qa_pair in generated.split('\\n\\n')]\n",
    "        reformated_qa_list = [dict(question=re.sub(r\"Question: \", \"\", qa_pair[0]), answer=re.sub(r\"Answer: \", \"\", qa_pair[1])) for qa_pair in qa_list]       \n",
    "        return reformated_qa_list\n",
    "        # return response.choices[0].message.content\n",
    "\n",
    "    @classmethod\n",
    "    def from_llm(cls, input):\n",
    "\n",
    "        return cls(cls.call_openai_chat_completion(input))\n",
    "\n",
    "    def add_data(self, questions, question_with_anwers = None):\n",
    "\n",
    "        self.questions = questions\n",
    "        return self\n",
    "     \n",
    "    def get_all_questions(self):\n",
    "        \n",
    "        test_df = pd.DataFrame([], columns=[\"Question\", \"Answer\", \"anwerable\", \"attack_type\"])\n",
    "\n",
    "        if self.questions is not None:\n",
    "            add_questions = [dict(question=q, answer=\"none\") for q in self.questions]\n",
    "            qa_list = self.question_answer_pair + add_questions\n",
    "            test_data = pd.DataFrame(qa_list)\n",
    "            test_df = test_df.assign(Question=test_data[\"question\"], Answer=test_data[\"answer\"])\n",
    "        else:\n",
    "            test_data = pd.DataFrame(self.question_answer_pair)    \n",
    "            test_df = test_df.assign(Question=test_data[\"question\"], Answer=test_data[\"answer\"])\n",
    "        return test_df\n",
    "               "
   ]
  },
  {
   "cell_type": "code",
   "execution_count": 54,
   "metadata": {},
   "outputs": [],
   "source": [
    "ql = [\"what is the key conclusion of this text?\"]"
   ]
  },
  {
   "cell_type": "code",
   "execution_count": 70,
   "metadata": {},
   "outputs": [],
   "source": [
    "text_chunk = text[1].page_content\n",
    "eval_data = EvalData.from_llm(text_chunk)"
   ]
  },
  {
   "cell_type": "code",
   "execution_count": 71,
   "metadata": {},
   "outputs": [
    {
     "data": {
      "text/html": [
       "<div>\n",
       "<style scoped>\n",
       "    .dataframe tbody tr th:only-of-type {\n",
       "        vertical-align: middle;\n",
       "    }\n",
       "\n",
       "    .dataframe tbody tr th {\n",
       "        vertical-align: top;\n",
       "    }\n",
       "\n",
       "    .dataframe thead th {\n",
       "        text-align: right;\n",
       "    }\n",
       "</style>\n",
       "<table border=\"1\" class=\"dataframe\">\n",
       "  <thead>\n",
       "    <tr style=\"text-align: right;\">\n",
       "      <th></th>\n",
       "      <th>Question</th>\n",
       "      <th>Answer</th>\n",
       "      <th>anwerable</th>\n",
       "      <th>attack_type</th>\n",
       "    </tr>\n",
       "  </thead>\n",
       "  <tbody>\n",
       "    <tr>\n",
       "      <th>0</th>\n",
       "      <td>What are some other sources of unreplicability...</td>\n",
       "      <td>The paragraph mentions unequal hyperparameters...</td>\n",
       "      <td>NaN</td>\n",
       "      <td>NaN</td>\n",
       "    </tr>\n",
       "    <tr>\n",
       "      <th>1</th>\n",
       "      <td>What does the tabular data benchmark with a pr...</td>\n",
       "      <td>The tabular data benchmark with a precise meth...</td>\n",
       "      <td>NaN</td>\n",
       "      <td>NaN</td>\n",
       "    </tr>\n",
       "  </tbody>\n",
       "</table>\n",
       "</div>"
      ],
      "text/plain": [
       "                                            Question  \\\n",
       "0  What are some other sources of unreplicability...   \n",
       "1  What does the tabular data benchmark with a pr...   \n",
       "\n",
       "                                              Answer anwerable attack_type  \n",
       "0  The paragraph mentions unequal hyperparameters...       NaN         NaN  \n",
       "1  The tabular data benchmark with a precise meth...       NaN         NaN  "
      ]
     },
     "execution_count": 71,
     "metadata": {},
     "output_type": "execute_result"
    }
   ],
   "source": [
    "eval_data.get_all_questions()"
   ]
  },
  {
   "cell_type": "code",
   "execution_count": 72,
   "metadata": {},
   "outputs": [
    {
     "data": {
      "text/plain": [
       "<__main__.EvalData at 0x7f18b9767ee0>"
      ]
     },
     "execution_count": 72,
     "metadata": {},
     "output_type": "execute_result"
    }
   ],
   "source": [
    "eval_data.add_data(ql)"
   ]
  },
  {
   "cell_type": "code",
   "execution_count": 73,
   "metadata": {},
   "outputs": [
    {
     "data": {
      "text/plain": [
       "[{'question': 'What are some other sources of unreplicability across machine learning mentioned in the paragraph?',\n",
       "  'answer': 'The paragraph mentions unequal hyperparameters tuning efforts [Lipton and Steinhardt, 2019] and failure to account for statistical uncertainty in benchmarks [Bouthillier et al., 2021] as other sources of unreplicability across machine learning.'},\n",
       " {'question': 'What does the tabular data benchmark with a precise methodology enable the authors to do?',\n",
       "  'answer': 'The tabular data benchmark with a precise methodology enables the authors to evaluate recent deep learning models that have not yet been independently evaluated.'}]"
      ]
     },
     "execution_count": 73,
     "metadata": {},
     "output_type": "execute_result"
    }
   ],
   "source": [
    "t = eval_data.question_answer_pair\n",
    "t"
   ]
  },
  {
   "cell_type": "code",
   "execution_count": null,
   "metadata": {},
   "outputs": [],
   "source": []
  }
 ],
 "metadata": {
  "kernelspec": {
   "display_name": ".venv",
   "language": "python",
   "name": "python3"
  },
  "language_info": {
   "codemirror_mode": {
    "name": "ipython",
    "version": 3
   },
   "file_extension": ".py",
   "mimetype": "text/x-python",
   "name": "python",
   "nbconvert_exporter": "python",
   "pygments_lexer": "ipython3",
   "version": "3.10.12"
  }
 },
 "nbformat": 4,
 "nbformat_minor": 2
}
